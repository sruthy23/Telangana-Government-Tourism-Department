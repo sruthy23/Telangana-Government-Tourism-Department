{
 "cells": [
  {
   "cell_type": "code",
   "execution_count": 1,
   "metadata": {},
   "outputs": [],
   "source": [
    "import pandas as pd"
   ]
  },
  {
   "cell_type": "markdown",
   "metadata": {},
   "source": [
    "#### Read CSV files into separate dataframes"
   ]
  },
  {
   "cell_type": "code",
   "execution_count": 11,
   "metadata": {},
   "outputs": [],
   "source": [
    "domestic_2016 = pd.read_csv(r\"C:\\Users\\Sruthy Iype\\Desktop\\Data Projects\\Telangana Tourism Department\\domestic_visitors\\domestic_visitors_2016.csv\")\n",
    "domestic_2017 = pd.read_csv(r\"C:\\Users\\Sruthy Iype\\Desktop\\Data Projects\\Telangana Tourism Department\\domestic_visitors\\domestic_visitors_2017.csv\")\n",
    "domestic_2018 = pd.read_csv(r\"C:\\Users\\Sruthy Iype\\Desktop\\Data Projects\\Telangana Tourism Department\\domestic_visitors\\domestic_visitors_2018.csv\")\n",
    "domestic_2019 = pd.read_csv(r\"C:\\Users\\Sruthy Iype\\Desktop\\Data Projects\\Telangana Tourism Department\\domestic_visitors\\domestic_visitors_2019.csv\")\n",
    "foreign_2016 = pd.read_csv(r\"C:\\Users\\Sruthy Iype\\Desktop\\Data Projects\\Telangana Tourism Department\\foreign_visitors\\foreign_visitors_2016.csv\")\n",
    "foreign_2017 = pd.read_csv(r\"C:\\Users\\Sruthy Iype\\Desktop\\Data Projects\\Telangana Tourism Department\\foreign_visitors\\foreign_visitors_2017.csv\")\n",
    "foreign_2018 = pd.read_csv(r\"C:\\Users\\Sruthy Iype\\Desktop\\Data Projects\\Telangana Tourism Department\\foreign_visitors\\foreign_visitors_2018.csv\")\n",
    "foreign_2019 = pd.read_csv(r\"C:\\Users\\Sruthy Iype\\Desktop\\Data Projects\\Telangana Tourism Department\\foreign_visitors\\foreign_visitors_2019.csv\")"
   ]
  },
  {
   "cell_type": "markdown",
   "metadata": {},
   "source": [
    "#### Combine the dataframes using the concat function"
   ]
  },
  {
   "cell_type": "code",
   "execution_count": 13,
   "metadata": {},
   "outputs": [],
   "source": [
    "domestic_visitors = pd.concat([domestic_2016, domestic_2017, domestic_2018, domestic_2019])\n",
    "foreign_visitors = pd.concat([foreign_2016, foreign_2017, foreign_2018, foreign_2019])"
   ]
  },
  {
   "cell_type": "markdown",
   "metadata": {},
   "source": [
    "#### Export the combined dataframes into CSV files"
   ]
  },
  {
   "cell_type": "code",
   "execution_count": 15,
   "metadata": {},
   "outputs": [],
   "source": [
    "domestic_visitors.to_csv('domestic_visitors.csv', index=False)\n",
    "foreign_visitors.to_csv('foreign_visitors.csv', index=False)"
   ]
  },
  {
   "cell_type": "code",
   "execution_count": null,
   "metadata": {},
   "outputs": [],
   "source": []
  }
 ],
 "metadata": {
  "kernelspec": {
   "display_name": "Python 3",
   "language": "python",
   "name": "python3"
  },
  "language_info": {
   "codemirror_mode": {
    "name": "ipython",
    "version": 3
   },
   "file_extension": ".py",
   "mimetype": "text/x-python",
   "name": "python",
   "nbconvert_exporter": "python",
   "pygments_lexer": "ipython3",
   "version": "3.8.5"
  }
 },
 "nbformat": 4,
 "nbformat_minor": 4
}
