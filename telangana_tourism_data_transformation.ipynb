{
 "cells": [
  {
   "cell_type": "code",
   "execution_count": 39,
   "metadata": {},
   "outputs": [],
   "source": [
    "import pandas as pd"
   ]
  },
  {
   "cell_type": "code",
   "execution_count": 37,
   "metadata": {},
   "outputs": [],
   "source": [
    "pd.set_option('display.max_rows', 200)"
   ]
  },
  {
   "cell_type": "markdown",
   "metadata": {},
   "source": [
    "#### Read CSV files into separate dataframes"
   ]
  },
  {
   "cell_type": "code",
   "execution_count": 52,
   "metadata": {},
   "outputs": [],
   "source": [
    "domestic_2016 = pd.read_csv(r\"C:\\Users\\Sruthy Iype\\Desktop\\Data Projects\\Telangana Tourism Department\\domestic_visitors\\domestic_visitors_2016.csv\")\n",
    "domestic_2017 = pd.read_csv(r\"C:\\Users\\Sruthy Iype\\Desktop\\Data Projects\\Telangana Tourism Department\\domestic_visitors\\domestic_visitors_2017.csv\")\n",
    "domestic_2018 = pd.read_csv(r\"C:\\Users\\Sruthy Iype\\Desktop\\Data Projects\\Telangana Tourism Department\\domestic_visitors\\domestic_visitors_2018.csv\")\n",
    "domestic_2019 = pd.read_csv(r\"C:\\Users\\Sruthy Iype\\Desktop\\Data Projects\\Telangana Tourism Department\\domestic_visitors\\domestic_visitors_2019.csv\")\n",
    "foreign_2016 = pd.read_csv(r\"C:\\Users\\Sruthy Iype\\Desktop\\Data Projects\\Telangana Tourism Department\\foreign_visitors\\foreign_visitors_2016.csv\")\n",
    "foreign_2017 = pd.read_csv(r\"C:\\Users\\Sruthy Iype\\Desktop\\Data Projects\\Telangana Tourism Department\\foreign_visitors\\foreign_visitors_2017.csv\")\n",
    "foreign_2018 = pd.read_csv(r\"C:\\Users\\Sruthy Iype\\Desktop\\Data Projects\\Telangana Tourism Department\\foreign_visitors\\foreign_visitors_2018.csv\")\n",
    "foreign_2019 = pd.read_csv(r\"C:\\Users\\Sruthy Iype\\Desktop\\Data Projects\\Telangana Tourism Department\\foreign_visitors\\foreign_visitors_2019.csv\")"
   ]
  },
  {
   "cell_type": "markdown",
   "metadata": {},
   "source": [
    "#### Combine the dataframes using the concat function"
   ]
  },
  {
   "cell_type": "code",
   "execution_count": 53,
   "metadata": {},
   "outputs": [],
   "source": [
    "domestic_visitors = pd.concat([domestic_2016, domestic_2017, domestic_2018, domestic_2019])\n",
    "foreign_visitors = pd.concat([foreign_2016, foreign_2017, foreign_2018, foreign_2019])"
   ]
  },
  {
   "cell_type": "markdown",
   "metadata": {},
   "source": [
    "#### Data Cleaning\n"
   ]
  },
  {
   "cell_type": "code",
   "execution_count": 54,
   "metadata": {},
   "outputs": [
    {
     "name": "stdout",
     "output_type": "stream",
     "text": [
      "<class 'pandas.core.frame.DataFrame'>\n",
      "Int64Index: 1512 entries, 0 to 395\n",
      "Data columns (total 5 columns):\n",
      " #   Column    Non-Null Count  Dtype \n",
      "---  ------    --------------  ----- \n",
      " 0   district  1512 non-null   object\n",
      " 1   date      1512 non-null   object\n",
      " 2   month     1512 non-null   object\n",
      " 3   year      1512 non-null   int64 \n",
      " 4   visitors  1482 non-null   object\n",
      "dtypes: int64(1), object(4)\n",
      "memory usage: 70.9+ KB\n"
     ]
    }
   ],
   "source": [
    "domestic_visitors.info()"
   ]
  },
  {
   "cell_type": "code",
   "execution_count": 56,
   "metadata": {},
   "outputs": [
    {
     "data": {
      "text/html": [
       "<div>\n",
       "<style scoped>\n",
       "    .dataframe tbody tr th:only-of-type {\n",
       "        vertical-align: middle;\n",
       "    }\n",
       "\n",
       "    .dataframe tbody tr th {\n",
       "        vertical-align: top;\n",
       "    }\n",
       "\n",
       "    .dataframe thead th {\n",
       "        text-align: right;\n",
       "    }\n",
       "</style>\n",
       "<table border=\"1\" class=\"dataframe\">\n",
       "  <thead>\n",
       "    <tr style=\"text-align: right;\">\n",
       "      <th></th>\n",
       "      <th>district</th>\n",
       "      <th>date</th>\n",
       "      <th>month</th>\n",
       "      <th>year</th>\n",
       "      <th>visitors</th>\n",
       "    </tr>\n",
       "  </thead>\n",
       "  <tbody>\n",
       "    <tr>\n",
       "      <th>0</th>\n",
       "      <td>Adilabad</td>\n",
       "      <td>01-01-2016</td>\n",
       "      <td>January</td>\n",
       "      <td>2016</td>\n",
       "      <td>792136</td>\n",
       "    </tr>\n",
       "    <tr>\n",
       "      <th>1</th>\n",
       "      <td>Adilabad</td>\n",
       "      <td>01-02-2016</td>\n",
       "      <td>February</td>\n",
       "      <td>2016</td>\n",
       "      <td>937820</td>\n",
       "    </tr>\n",
       "    <tr>\n",
       "      <th>2</th>\n",
       "      <td>Adilabad</td>\n",
       "      <td>01-03-2016</td>\n",
       "      <td>March</td>\n",
       "      <td>2016</td>\n",
       "      <td>582946</td>\n",
       "    </tr>\n",
       "    <tr>\n",
       "      <th>3</th>\n",
       "      <td>Adilabad</td>\n",
       "      <td>01-04-2016</td>\n",
       "      <td>April</td>\n",
       "      <td>2016</td>\n",
       "      <td>341948</td>\n",
       "    </tr>\n",
       "    <tr>\n",
       "      <th>4</th>\n",
       "      <td>Adilabad</td>\n",
       "      <td>01-05-2016</td>\n",
       "      <td>May</td>\n",
       "      <td>2016</td>\n",
       "      <td>252887</td>\n",
       "    </tr>\n",
       "  </tbody>\n",
       "</table>\n",
       "</div>"
      ],
      "text/plain": [
       "   district        date     month  year visitors\n",
       "0  Adilabad  01-01-2016   January  2016   792136\n",
       "1  Adilabad  01-02-2016  February  2016   937820\n",
       "2  Adilabad  01-03-2016     March  2016   582946\n",
       "3  Adilabad  01-04-2016     April  2016   341948\n",
       "4  Adilabad  01-05-2016       May  2016   252887"
      ]
     },
     "execution_count": 56,
     "metadata": {},
     "output_type": "execute_result"
    }
   ],
   "source": [
    "domestic_visitors.head()"
   ]
  },
  {
   "cell_type": "code",
   "execution_count": 57,
   "metadata": {},
   "outputs": [],
   "source": [
    "# Convert date column to datetime data type\n",
    "domestic_visitors['date'] = pd.to_datetime(domestic_visitors['date'], format = '%d-%m-%Y')"
   ]
  },
  {
   "cell_type": "code",
   "execution_count": 58,
   "metadata": {},
   "outputs": [],
   "source": [
    "# Remove leading and trailing spaces from district, and visitors columns\n",
    "domestic_visitors['district'] = domestic_visitors['district'].str.strip()\n",
    "domestic_visitors['visitors'] = domestic_visitors['visitors'].str.strip()"
   ]
  },
  {
   "cell_type": "code",
   "execution_count": 59,
   "metadata": {},
   "outputs": [
    {
     "data": {
      "text/plain": [
       "30"
      ]
     },
     "execution_count": 59,
     "metadata": {},
     "output_type": "execute_result"
    }
   ],
   "source": [
    "null_values_domestic = domestic_visitors['visitors'].isnull().sum()\n",
    "null_values_domestic"
   ]
  },
  {
   "cell_type": "code",
   "execution_count": 60,
   "metadata": {},
   "outputs": [],
   "source": [
    "# Replace null values and empty strings with 0 \n",
    "domestic_visitors['visitors'] = domestic_visitors['visitors'].fillna(0).replace('', 0)\n",
    "# Convert visitors column to int datatype\n",
    "domestic_visitors['visitors'] = domestic_visitors['visitors'].astype(int)"
   ]
  },
  {
   "cell_type": "code",
   "execution_count": 61,
   "metadata": {},
   "outputs": [],
   "source": [
    "missing_values_domestic = domestic_visitors.groupby(['district', 'year'])['visitors'].apply(lambda x: (x == 0).sum())\n"
   ]
  },
  {
   "cell_type": "code",
   "execution_count": 63,
   "metadata": {},
   "outputs": [
    {
     "data": {
      "text/plain": [
       "district                  year\n",
       "Bhadradri Kothagudem      2016     9\n",
       "Jagtial                   2016     9\n",
       "Jangaon                   2016     9\n",
       "Jayashankar Bhoopalpally  2016     9\n",
       "Jogulamba Gadwal          2016     9\n",
       "Kamareddy                 2016     9\n",
       "Komaram Bheem Asifabad    2016    12\n",
       "Mahabubabad               2016     9\n",
       "Mancherial                2016     9\n",
       "Medchal                   2016    12\n",
       "                          2017    12\n",
       "                          2018    12\n",
       "                          2019    12\n",
       "Mulugu                    2019     1\n",
       "Nagarkurnool              2016     9\n",
       "Narayanapet               2019     6\n",
       "Nirmal                    2016     9\n",
       "Peddapalli                2016     9\n",
       "Rajanna Sircilla          2016     9\n",
       "Ranga Reddy               2016    12\n",
       "                          2017    12\n",
       "                          2018    12\n",
       "                          2019    12\n",
       "Sangareddy                2016     9\n",
       "Siddipet                  2016     9\n",
       "Suryapet                  2016    12\n",
       "                          2017    12\n",
       "                          2018    12\n",
       "                          2019    12\n",
       "Vikarabad                 2016    12\n",
       "                          2017    12\n",
       "                          2018    12\n",
       "                          2019    12\n",
       "Wanaparthy                2016     9\n",
       "Warangal (Rural)          2016     9\n",
       "Yadadri Bhongir           2016     9\n",
       "Name: visitors, dtype: int64"
      ]
     },
     "execution_count": 63,
     "metadata": {},
     "output_type": "execute_result"
    }
   ],
   "source": [
    "# Districts having missing values for monthly visitor footfall\n",
    "missing_values_domestic[missing_values_domestic> 0]"
   ]
  },
  {
   "cell_type": "markdown",
   "metadata": {},
   "source": [
    "It is noticed that a lot of districts are missing data for the year 2016. Further, four districts- Medchal, Ranga Reddy, Suryapet and Vikarabad- have no data on domestic visitors footfall for all four year. "
   ]
  },
  {
   "cell_type": "code",
   "execution_count": 76,
   "metadata": {},
   "outputs": [
    {
     "data": {
      "text/plain": [
       "district                  year\n",
       "Adilabad                  2016    0\n",
       "                          2017    0\n",
       "                          2018    0\n",
       "                          2019    0\n",
       "Bhadradri Kothagudem      2017    0\n",
       "                          2018    0\n",
       "                          2019    0\n",
       "Hyderabad                 2016    0\n",
       "                          2017    0\n",
       "                          2018    0\n",
       "                          2019    0\n",
       "Jagtial                   2017    0\n",
       "                          2018    0\n",
       "                          2019    0\n",
       "Jangaon                   2017    0\n",
       "                          2018    0\n",
       "                          2019    0\n",
       "Jayashankar Bhoopalpally  2017    0\n",
       "                          2018    0\n",
       "                          2019    0\n",
       "Jogulamba Gadwal          2017    0\n",
       "                          2018    0\n",
       "                          2019    0\n",
       "Kamareddy                 2017    0\n",
       "                          2018    0\n",
       "                          2019    0\n",
       "Karimnagar                2016    0\n",
       "                          2017    0\n",
       "                          2018    0\n",
       "                          2019    0\n",
       "Khammam                   2016    0\n",
       "                          2017    0\n",
       "                          2018    0\n",
       "                          2019    0\n",
       "Komaram Bheem Asifabad    2017    0\n",
       "                          2018    0\n",
       "                          2019    0\n",
       "Mahabubabad               2017    0\n",
       "                          2018    0\n",
       "                          2019    0\n",
       "Mahbubnagar               2016    0\n",
       "                          2017    0\n",
       "                          2018    0\n",
       "                          2019    0\n",
       "Mancherial                2017    0\n",
       "                          2018    0\n",
       "                          2019    0\n",
       "Medak                     2016    0\n",
       "                          2017    0\n",
       "                          2018    0\n",
       "                          2019    0\n",
       "Nagarkurnool              2017    0\n",
       "                          2018    0\n",
       "                          2019    0\n",
       "Nalgonda                  2016    0\n",
       "                          2017    0\n",
       "                          2018    0\n",
       "                          2019    0\n",
       "Nirmal                    2017    0\n",
       "                          2018    0\n",
       "                          2019    0\n",
       "Nizamabad                 2016    0\n",
       "                          2017    0\n",
       "                          2018    0\n",
       "                          2019    0\n",
       "Peddapalli                2017    0\n",
       "                          2018    0\n",
       "                          2019    0\n",
       "Rajanna Sircilla          2017    0\n",
       "                          2018    0\n",
       "                          2019    0\n",
       "Sangareddy                2017    0\n",
       "                          2018    0\n",
       "                          2019    0\n",
       "Siddipet                  2017    0\n",
       "                          2018    0\n",
       "                          2019    0\n",
       "Wanaparthy                2017    0\n",
       "                          2018    0\n",
       "                          2019    0\n",
       "Warangal (Rural)          2017    0\n",
       "                          2018    0\n",
       "                          2019    0\n",
       "Warangal (Urban)          2016    0\n",
       "                          2017    0\n",
       "                          2018    0\n",
       "                          2019    0\n",
       "Yadadri Bhongir           2017    0\n",
       "                          2018    0\n",
       "                          2019    0\n",
       "Name: visitors, dtype: int64"
      ]
     },
     "execution_count": 76,
     "metadata": {},
     "output_type": "execute_result"
    }
   ],
   "source": [
    "# Districts having no missing values for monthly visitor footfall\n",
    "missing_values_domestic[missing_values_domestic== 0]"
   ]
  },
  {
   "cell_type": "code",
   "execution_count": 6,
   "metadata": {
    "scrolled": true
   },
   "outputs": [
    {
     "name": "stdout",
     "output_type": "stream",
     "text": [
      "<class 'pandas.core.frame.DataFrame'>\n",
      "Int64Index: 1512 entries, 0 to 395\n",
      "Data columns (total 5 columns):\n",
      " #   Column    Non-Null Count  Dtype \n",
      "---  ------    --------------  ----- \n",
      " 0   district  1512 non-null   object\n",
      " 1   date      1512 non-null   object\n",
      " 2   month     1512 non-null   object\n",
      " 3   year      1512 non-null   int64 \n",
      " 4   visitors  1512 non-null   object\n",
      "dtypes: int64(1), object(4)\n",
      "memory usage: 70.9+ KB\n"
     ]
    }
   ],
   "source": [
    "# Repeat steps for foreign_visitors\n",
    "foreign_visitors.info()"
   ]
  },
  {
   "cell_type": "code",
   "execution_count": 65,
   "metadata": {},
   "outputs": [
    {
     "data": {
      "text/html": [
       "<div>\n",
       "<style scoped>\n",
       "    .dataframe tbody tr th:only-of-type {\n",
       "        vertical-align: middle;\n",
       "    }\n",
       "\n",
       "    .dataframe tbody tr th {\n",
       "        vertical-align: top;\n",
       "    }\n",
       "\n",
       "    .dataframe thead th {\n",
       "        text-align: right;\n",
       "    }\n",
       "</style>\n",
       "<table border=\"1\" class=\"dataframe\">\n",
       "  <thead>\n",
       "    <tr style=\"text-align: right;\">\n",
       "      <th></th>\n",
       "      <th>district</th>\n",
       "      <th>date</th>\n",
       "      <th>month</th>\n",
       "      <th>year</th>\n",
       "      <th>visitors</th>\n",
       "    </tr>\n",
       "  </thead>\n",
       "  <tbody>\n",
       "    <tr>\n",
       "      <th>0</th>\n",
       "      <td>Adilabad</td>\n",
       "      <td>01-01-2016</td>\n",
       "      <td>January</td>\n",
       "      <td>2016</td>\n",
       "      <td>2</td>\n",
       "    </tr>\n",
       "    <tr>\n",
       "      <th>1</th>\n",
       "      <td>Adilabad</td>\n",
       "      <td>01-02-2016</td>\n",
       "      <td>February</td>\n",
       "      <td>2016</td>\n",
       "      <td>0</td>\n",
       "    </tr>\n",
       "    <tr>\n",
       "      <th>2</th>\n",
       "      <td>Adilabad</td>\n",
       "      <td>01-03-2016</td>\n",
       "      <td>March</td>\n",
       "      <td>2016</td>\n",
       "      <td>2</td>\n",
       "    </tr>\n",
       "    <tr>\n",
       "      <th>3</th>\n",
       "      <td>Adilabad</td>\n",
       "      <td>01-04-2016</td>\n",
       "      <td>April</td>\n",
       "      <td>2016</td>\n",
       "      <td>0</td>\n",
       "    </tr>\n",
       "    <tr>\n",
       "      <th>4</th>\n",
       "      <td>Adilabad</td>\n",
       "      <td>01-05-2016</td>\n",
       "      <td>May</td>\n",
       "      <td>2016</td>\n",
       "      <td>0</td>\n",
       "    </tr>\n",
       "  </tbody>\n",
       "</table>\n",
       "</div>"
      ],
      "text/plain": [
       "   district        date     month  year visitors\n",
       "0  Adilabad  01-01-2016   January  2016        2\n",
       "1  Adilabad  01-02-2016  February  2016        0\n",
       "2  Adilabad  01-03-2016     March  2016        2\n",
       "3  Adilabad  01-04-2016     April  2016        0\n",
       "4  Adilabad  01-05-2016       May  2016        0"
      ]
     },
     "execution_count": 65,
     "metadata": {},
     "output_type": "execute_result"
    }
   ],
   "source": [
    "foreign_visitors.head()"
   ]
  },
  {
   "cell_type": "code",
   "execution_count": 66,
   "metadata": {},
   "outputs": [],
   "source": [
    "# Convert date column to datetime data type\n",
    "foreign_visitors['date'] = pd.to_datetime(foreign_visitors['date'], format = '%d-%m-%Y')"
   ]
  },
  {
   "cell_type": "code",
   "execution_count": 67,
   "metadata": {},
   "outputs": [],
   "source": [
    "# Remove leading and trailing spaces from district, and visitors columns\n",
    "foreign_visitors['district'] = foreign_visitors['district'].str.strip()\n",
    "foreign_visitors['visitors'] = foreign_visitors['visitors'].str.strip()"
   ]
  },
  {
   "cell_type": "code",
   "execution_count": 68,
   "metadata": {},
   "outputs": [
    {
     "data": {
      "text/plain": [
       "0"
      ]
     },
     "execution_count": 68,
     "metadata": {},
     "output_type": "execute_result"
    }
   ],
   "source": [
    "null_values_foreign = foreign_visitors['visitors'].isna().sum()\n",
    "null_values_foreign"
   ]
  },
  {
   "cell_type": "code",
   "execution_count": 69,
   "metadata": {},
   "outputs": [],
   "source": [
    "# Replace null values and empty strings with 0 \n",
    "foreign_visitors['visitors'] = foreign_visitors['visitors'].fillna(0).replace('', 0)\n",
    "# Convert visitors column to int datatype\n",
    "foreign_visitors['visitors'] = foreign_visitors['visitors'].astype(int)"
   ]
  },
  {
   "cell_type": "code",
   "execution_count": 70,
   "metadata": {},
   "outputs": [],
   "source": [
    "missing_values_foreign = foreign_visitors.groupby(['district', 'year'])['visitors'].apply(lambda x: (x == 0).sum())"
   ]
  },
  {
   "cell_type": "code",
   "execution_count": 73,
   "metadata": {},
   "outputs": [
    {
     "data": {
      "text/plain": [
       "district                  year\n",
       "Adilabad                  2016     8\n",
       "                          2017     9\n",
       "                          2018    10\n",
       "                          2019     9\n",
       "Bhadradri Kothagudem      2016    12\n",
       "                          2017    12\n",
       "                          2018    12\n",
       "                          2019    12\n",
       "Jagtial                   2016    12\n",
       "                          2017    12\n",
       "                          2018    12\n",
       "                          2019    12\n",
       "Jangaon                   2016    11\n",
       "                          2017    12\n",
       "                          2018    12\n",
       "                          2019    12\n",
       "Jayashankar Bhoopalpally  2016     9\n",
       "                          2019    11\n",
       "Jogulamba Gadwal          2016     9\n",
       "Kamareddy                 2016    12\n",
       "                          2017    12\n",
       "                          2018    12\n",
       "                          2019    12\n",
       "Karimnagar                2016    12\n",
       "                          2017    12\n",
       "                          2018    12\n",
       "                          2019    12\n",
       "Khammam                   2016    12\n",
       "                          2017    12\n",
       "                          2018    12\n",
       "                          2019    12\n",
       "Komaram Bheem Asifabad    2016    12\n",
       "                          2017    12\n",
       "                          2018    12\n",
       "                          2019    12\n",
       "Mahabubabad               2016    12\n",
       "                          2017    12\n",
       "                          2018    12\n",
       "                          2019    12\n",
       "Mancherial                2016    12\n",
       "                          2017    12\n",
       "                          2018    12\n",
       "                          2019    11\n",
       "Medak                     2016    12\n",
       "                          2017    12\n",
       "                          2018    12\n",
       "                          2019    12\n",
       "Medchal                   2016    12\n",
       "                          2017    12\n",
       "                          2018    12\n",
       "                          2019    12\n",
       "Mulugu                    2019     1\n",
       "Nagarkurnool              2016     9\n",
       "Nalgonda                  2016    12\n",
       "                          2017    12\n",
       "                          2018    12\n",
       "                          2019    12\n",
       "Narayanpet                2019    11\n",
       "Nirmal                    2016    12\n",
       "                          2017    12\n",
       "                          2018    11\n",
       "                          2019    12\n",
       "Nizamabad                 2016    12\n",
       "                          2017    11\n",
       "                          2018    10\n",
       "                          2019    11\n",
       "Peddapalli                2016    12\n",
       "                          2017    12\n",
       "                          2018    12\n",
       "                          2019    12\n",
       "Rajanna Sircilla          2016    12\n",
       "                          2017    12\n",
       "                          2018    12\n",
       "                          2019    12\n",
       "Ranga Reddy               2016    12\n",
       "                          2017    12\n",
       "                          2018    12\n",
       "                          2019    12\n",
       "Sangareddy                2016    12\n",
       "                          2017    12\n",
       "                          2018    12\n",
       "                          2019    12\n",
       "Siddipet                  2016    12\n",
       "                          2017    12\n",
       "                          2018    12\n",
       "                          2019    12\n",
       "Suryapet                  2016    12\n",
       "                          2017    12\n",
       "                          2018    12\n",
       "                          2019    12\n",
       "Vikarabad                 2016    12\n",
       "                          2017    12\n",
       "                          2018    12\n",
       "                          2019    12\n",
       "Wanaparthy                2016    12\n",
       "                          2017    12\n",
       "                          2018    12\n",
       "                          2019    12\n",
       "Warangal (Rural)          2016    12\n",
       "                          2018    12\n",
       "                          2019    12\n",
       "Yadadri Bhongir           2016    12\n",
       "                          2017    12\n",
       "                          2018    12\n",
       "                          2019    12\n",
       "Name: visitors, dtype: int64"
      ]
     },
     "execution_count": 73,
     "metadata": {},
     "output_type": "execute_result"
    }
   ],
   "source": [
    "# Districts having missing values for monthly visitor footfall\n",
    "missing_values_foreign[missing_values_foreign> 0]"
   ]
  },
  {
   "cell_type": "code",
   "execution_count": 74,
   "metadata": {},
   "outputs": [
    {
     "data": {
      "text/plain": [
       "district                  year\n",
       "Hyderabad                 2016    0\n",
       "                          2017    0\n",
       "                          2018    0\n",
       "                          2019    0\n",
       "Jayashankar Bhoopalpally  2017    0\n",
       "                          2018    0\n",
       "Jogulamba Gadwal          2017    0\n",
       "                          2018    0\n",
       "                          2019    0\n",
       "Mahbubnagar               2016    0\n",
       "                          2017    0\n",
       "                          2018    0\n",
       "                          2019    0\n",
       "Nagarkurnool              2017    0\n",
       "                          2018    0\n",
       "                          2019    0\n",
       "Warangal (Rural)          2017    0\n",
       "Warangal (Urban)          2016    0\n",
       "                          2017    0\n",
       "                          2018    0\n",
       "                          2019    0\n",
       "Name: visitors, dtype: int64"
      ]
     },
     "execution_count": 74,
     "metadata": {},
     "output_type": "execute_result"
    }
   ],
   "source": [
    "# Districts having no missing values for monthly visitor footfall\n",
    "missing_values_foreign[missing_values_foreign== 0]"
   ]
  },
  {
   "cell_type": "markdown",
   "metadata": {},
   "source": [
    "Hyderabad and Warangal(Urban) are the only two districts with complete data for foreign tourist footfall for all 4 years.  "
   ]
  },
  {
   "cell_type": "markdown",
   "metadata": {},
   "source": [
    "#### Export the combined dataframes into CSV files"
   ]
  },
  {
   "cell_type": "code",
   "execution_count": 75,
   "metadata": {},
   "outputs": [],
   "source": [
    "domestic_visitors.to_csv('domestic_visitors.csv', index=False)\n",
    "foreign_visitors.to_csv('foreign_visitors.csv', index=False)"
   ]
  },
  {
   "cell_type": "code",
   "execution_count": null,
   "metadata": {},
   "outputs": [],
   "source": [
    "' '"
   ]
  }
 ],
 "metadata": {
  "kernelspec": {
   "display_name": "Python 3",
   "language": "python",
   "name": "python3"
  },
  "language_info": {
   "codemirror_mode": {
    "name": "ipython",
    "version": 3
   },
   "file_extension": ".py",
   "mimetype": "text/x-python",
   "name": "python",
   "nbconvert_exporter": "python",
   "pygments_lexer": "ipython3",
   "version": "3.8.5"
  }
 },
 "nbformat": 4,
 "nbformat_minor": 4
}
